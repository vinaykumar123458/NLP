{
  "nbformat": 4,
  "nbformat_minor": 0,
  "metadata": {
    "colab": {
      "name": "NLP_Question_5.ipynb",
      "provenance": [],
      "collapsed_sections": [],
      "include_colab_link": true
    },
    "kernelspec": {
      "name": "python3",
      "display_name": "Python 3"
    },
    "language_info": {
      "name": "python"
    }
  },
  "cells": [
    {
      "cell_type": "markdown",
      "metadata": {
        "id": "view-in-github",
        "colab_type": "text"
      },
      "source": [
        "<a href=\"https://colab.research.google.com/github/vinaykumar123458/NLP/blob/main/NLP_Question_5.ipynb\" target=\"_parent\"><img src=\"https://colab.research.google.com/assets/colab-badge.svg\" alt=\"Open In Colab\"/></a>"
      ]
    },
    {
      "cell_type": "markdown",
      "source": [
        "5. find stop words and Bow from the given paragraph?"
      ],
      "metadata": {
        "id": "-caMP4XY50Rn"
      }
    },
    {
      "cell_type": "code",
      "source": [
        "import nltk\n",
        "import pandas as pd\n",
        "import chardet\n",
        "\n",
        "from nltk.corpus import stopwords\n",
        "from nltk.tokenize import sent_tokenize\n",
        "from nltk.tokenize import word_tokenize"
      ],
      "metadata": {
        "id": "mJqDfP4q5jWt"
      },
      "execution_count": 1,
      "outputs": []
    },
    {
      "cell_type": "code",
      "source": [
        "from sklearn.feature_extraction.text import CountVectorizer\n",
        "import pandas as pd\n",
        "paragraph = \"The NLTK library is one of the oldest and most commonly used Python libraries for Natural Language Processing. NLTK supports stop word removal, and you can find the list of stop words in the corpus module. To remove stop words from a sentence, you can divide your text into words and then remove the word if it exits in the list of stop words provided by NLTK.\"\n",
        "count_vec = CountVectorizer()\n",
        "count_occurs = count_vec.fit_transform([paragraph])\n",
        "count_occur_df = pd.DataFrame((count, word) for word, count in zip(count_occurs.toarray().tolist()[0], count_vec.get_feature_names()))\n",
        "count_occur_df.columns = ['WORD','FREQUENCY']\n",
        "print(count_occur_df)"
      ],
      "metadata": {
        "colab": {
          "base_uri": "https://localhost:8080/"
        },
        "id": "3WfME8oc5Uyo",
        "outputId": "f251d0ba-b042-4fb0-d9ae-11ebcbea6d8e"
      },
      "execution_count": 2,
      "outputs": [
        {
          "output_type": "stream",
          "name": "stdout",
          "text": [
            "          WORD  FREQUENCY\n",
            "0          and          3\n",
            "1           by          1\n",
            "2          can          2\n",
            "3     commonly          1\n",
            "4       corpus          1\n",
            "5       divide          1\n",
            "6        exits          1\n",
            "7         find          1\n",
            "8          for          1\n",
            "9         from          1\n",
            "10          if          1\n",
            "11          in          2\n",
            "12        into          1\n",
            "13          is          1\n",
            "14          it          1\n",
            "15    language          1\n",
            "16   libraries          1\n",
            "17     library          1\n",
            "18        list          2\n",
            "19      module          1\n",
            "20        most          1\n",
            "21     natural          1\n",
            "22        nltk          3\n",
            "23          of          3\n",
            "24      oldest          1\n",
            "25         one          1\n",
            "26  processing          1\n",
            "27    provided          1\n",
            "28      python          1\n",
            "29     removal          1\n",
            "30      remove          2\n",
            "31    sentence          1\n",
            "32        stop          4\n",
            "33    supports          1\n",
            "34        text          1\n",
            "35         the          6\n",
            "36        then          1\n",
            "37          to          1\n",
            "38        used          1\n",
            "39        word          2\n",
            "40       words          4\n",
            "41         you          2\n",
            "42        your          1\n"
          ]
        },
        {
          "output_type": "stream",
          "name": "stderr",
          "text": [
            "/usr/local/lib/python3.7/dist-packages/sklearn/utils/deprecation.py:87: FutureWarning: Function get_feature_names is deprecated; get_feature_names is deprecated in 1.0 and will be removed in 1.2. Please use get_feature_names_out instead.\n",
            "  warnings.warn(msg, category=FutureWarning)\n"
          ]
        }
      ]
    }
  ]
}